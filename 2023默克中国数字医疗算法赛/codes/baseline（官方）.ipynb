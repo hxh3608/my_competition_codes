{
 "cells": [
  {
   "cell_type": "code",
   "execution_count": 1,
   "id": "7f38a72d",
   "metadata": {
    "ExecuteTime": {
     "end_time": "2023-03-10T07:02:16.393251Z",
     "start_time": "2023-03-10T07:02:14.740171Z"
    }
   },
   "outputs": [],
   "source": [
    "import pandas as pd\n",
    "import os\n",
    "import gc\n",
    "import lightgbm as lgb\n",
    "from sklearn.linear_model import SGDRegressor, LinearRegression, Ridge\n",
    "from sklearn.preprocessing import MinMaxScaler\n",
    "from gensim.models import Word2Vec\n",
    "import math\n",
    "import numpy as np\n",
    "from tqdm import tqdm\n",
    "\n",
    "from sklearn.model_selection import StratifiedKFold, KFold, GroupKFold\n",
    "from sklearn.metrics import accuracy_score, f1_score, roc_auc_score, log_loss\n",
    "import matplotlib.pyplot as plt\n",
    "import time\n",
    "import warnings\n",
    "warnings.filterwarnings('ignore')"
   ]
  },
  {
   "cell_type": "markdown",
   "id": "9bf15aec",
   "metadata": {},
   "source": [
    "# 数据读取"
   ]
  },
  {
   "cell_type": "code",
   "execution_count": 2,
   "id": "5f5f8a3e",
   "metadata": {
    "ExecuteTime": {
     "end_time": "2023-03-10T07:02:16.709987Z",
     "start_time": "2023-03-10T07:02:16.394744Z"
    }
   },
   "outputs": [],
   "source": [
    "disease_feature1 = pd.read_csv(\"data/train/disease_feature1.csv\")\n",
    "disease_feature2 = pd.read_csv(\"data/train/disease_feature2.csv\")\n",
    "disease_feature3 = pd.read_csv(\"data/train/disease_feature3.csv\")\n",
    "\n",
    "train_answer = pd.read_csv(\"data/train/train_answer.csv\")\n",
    "train_food = pd.read_csv(\"data/train/train_food.csv\")\n",
    "\n",
    "preliminary_a_food = pd.read_csv(\"data/test_A/preliminary_a_food.csv\")\n",
    "preliminary_a_submit_sample = pd.read_csv(\"data/test_A/preliminary_a_submit_sample.csv\")"
   ]
  },
  {
   "cell_type": "code",
   "execution_count": 3,
   "id": "c245e7ec",
   "metadata": {
    "ExecuteTime": {
     "end_time": "2023-03-10T07:02:16.725894Z",
     "start_time": "2023-03-10T07:02:16.710894Z"
    }
   },
   "outputs": [],
   "source": [
    "del preliminary_a_submit_sample['related']"
   ]
  },
  {
   "cell_type": "code",
   "execution_count": 4,
   "id": "30b0170c",
   "metadata": {
    "ExecuteTime": {
     "end_time": "2023-03-10T07:02:16.741903Z",
     "start_time": "2023-03-10T07:02:16.726894Z"
    }
   },
   "outputs": [
    {
     "data": {
      "text/html": [
       "<div>\n",
       "<style scoped>\n",
       "    .dataframe tbody tr th:only-of-type {\n",
       "        vertical-align: middle;\n",
       "    }\n",
       "\n",
       "    .dataframe tbody tr th {\n",
       "        vertical-align: top;\n",
       "    }\n",
       "\n",
       "    .dataframe thead th {\n",
       "        text-align: right;\n",
       "    }\n",
       "</style>\n",
       "<table border=\"1\" class=\"dataframe\">\n",
       "  <thead>\n",
       "    <tr style=\"text-align: right;\">\n",
       "      <th></th>\n",
       "      <th>food_id</th>\n",
       "      <th>disease_id</th>\n",
       "      <th>related</th>\n",
       "    </tr>\n",
       "  </thead>\n",
       "  <tbody>\n",
       "    <tr>\n",
       "      <th>0</th>\n",
       "      <td>food_0</td>\n",
       "      <td>disease_998</td>\n",
       "      <td>0.0</td>\n",
       "    </tr>\n",
       "    <tr>\n",
       "      <th>1</th>\n",
       "      <td>food_0</td>\n",
       "      <td>disease_861</td>\n",
       "      <td>0.0</td>\n",
       "    </tr>\n",
       "    <tr>\n",
       "      <th>2</th>\n",
       "      <td>food_0</td>\n",
       "      <td>disease_559</td>\n",
       "      <td>0.0</td>\n",
       "    </tr>\n",
       "    <tr>\n",
       "      <th>3</th>\n",
       "      <td>food_0</td>\n",
       "      <td>disease_841</td>\n",
       "      <td>0.0</td>\n",
       "    </tr>\n",
       "    <tr>\n",
       "      <th>4</th>\n",
       "      <td>food_0</td>\n",
       "      <td>disease_81</td>\n",
       "      <td>0.0</td>\n",
       "    </tr>\n",
       "  </tbody>\n",
       "</table>\n",
       "</div>"
      ],
      "text/plain": [
       "  food_id   disease_id  related\n",
       "0  food_0  disease_998      0.0\n",
       "1  food_0  disease_861      0.0\n",
       "2  food_0  disease_559      0.0\n",
       "3  food_0  disease_841      0.0\n",
       "4  food_0   disease_81      0.0"
      ]
     },
     "execution_count": 4,
     "metadata": {},
     "output_type": "execute_result"
    }
   ],
   "source": [
    "data = pd.concat([train_answer, preliminary_a_submit_sample], axis = 0).reset_index(drop=True)\n",
    "data.head()"
   ]
  },
  {
   "cell_type": "markdown",
   "id": "b6bcd315",
   "metadata": {},
   "source": [
    "这里直接使用每个变量后的数字进行编码，当然也可以使用labelencoder的方式。"
   ]
  },
  {
   "cell_type": "code",
   "execution_count": 5,
   "id": "956c898f",
   "metadata": {
    "ExecuteTime": {
     "end_time": "2023-03-10T07:02:16.868991Z",
     "start_time": "2023-03-10T07:02:16.742894Z"
    }
   },
   "outputs": [],
   "source": [
    "data['food'] = data['food_id'].apply(lambda x : int(x.split('_')[1]))\n",
    "data['disease'] = data['disease_id'].apply(lambda x : int(x.split('_')[1]))"
   ]
  },
  {
   "cell_type": "code",
   "execution_count": 6,
   "id": "4b1ac63c",
   "metadata": {
    "ExecuteTime": {
     "end_time": "2023-03-10T07:02:16.884900Z",
     "start_time": "2023-03-10T07:02:16.869901Z"
    }
   },
   "outputs": [
    {
     "data": {
      "text/html": [
       "<div>\n",
       "<style scoped>\n",
       "    .dataframe tbody tr th:only-of-type {\n",
       "        vertical-align: middle;\n",
       "    }\n",
       "\n",
       "    .dataframe tbody tr th {\n",
       "        vertical-align: top;\n",
       "    }\n",
       "\n",
       "    .dataframe thead th {\n",
       "        text-align: right;\n",
       "    }\n",
       "</style>\n",
       "<table border=\"1\" class=\"dataframe\">\n",
       "  <thead>\n",
       "    <tr style=\"text-align: right;\">\n",
       "      <th></th>\n",
       "      <th>food_id</th>\n",
       "      <th>N_0</th>\n",
       "      <th>N_1</th>\n",
       "      <th>N_2</th>\n",
       "      <th>N_3</th>\n",
       "      <th>N_4</th>\n",
       "      <th>N_5</th>\n",
       "      <th>N_6</th>\n",
       "      <th>N_7</th>\n",
       "      <th>N_8</th>\n",
       "      <th>...</th>\n",
       "      <th>N_202</th>\n",
       "      <th>N_203</th>\n",
       "      <th>N_204</th>\n",
       "      <th>N_205</th>\n",
       "      <th>N_206</th>\n",
       "      <th>N_207</th>\n",
       "      <th>N_208</th>\n",
       "      <th>N_209</th>\n",
       "      <th>N_210</th>\n",
       "      <th>N_211</th>\n",
       "    </tr>\n",
       "  </thead>\n",
       "  <tbody>\n",
       "    <tr>\n",
       "      <th>0</th>\n",
       "      <td>food_0</td>\n",
       "      <td>NaN</td>\n",
       "      <td>NaN</td>\n",
       "      <td>NaN</td>\n",
       "      <td>NaN</td>\n",
       "      <td>0.0</td>\n",
       "      <td>NaN</td>\n",
       "      <td>NaN</td>\n",
       "      <td>NaN</td>\n",
       "      <td>NaN</td>\n",
       "      <td>...</td>\n",
       "      <td>NaN</td>\n",
       "      <td>NaN</td>\n",
       "      <td>0.02</td>\n",
       "      <td>0.0</td>\n",
       "      <td>NaN</td>\n",
       "      <td>NaN</td>\n",
       "      <td>30.5</td>\n",
       "      <td>92.82</td>\n",
       "      <td>NaN</td>\n",
       "      <td>0.92</td>\n",
       "    </tr>\n",
       "    <tr>\n",
       "      <th>1</th>\n",
       "      <td>food_1</td>\n",
       "      <td>NaN</td>\n",
       "      <td>NaN</td>\n",
       "      <td>NaN</td>\n",
       "      <td>NaN</td>\n",
       "      <td>0.0</td>\n",
       "      <td>NaN</td>\n",
       "      <td>NaN</td>\n",
       "      <td>NaN</td>\n",
       "      <td>NaN</td>\n",
       "      <td>...</td>\n",
       "      <td>NaN</td>\n",
       "      <td>NaN</td>\n",
       "      <td>23.90</td>\n",
       "      <td>0.0</td>\n",
       "      <td>NaN</td>\n",
       "      <td>NaN</td>\n",
       "      <td>0.0</td>\n",
       "      <td>2.41</td>\n",
       "      <td>NaN</td>\n",
       "      <td>3.31</td>\n",
       "    </tr>\n",
       "    <tr>\n",
       "      <th>2</th>\n",
       "      <td>food_4</td>\n",
       "      <td>NaN</td>\n",
       "      <td>NaN</td>\n",
       "      <td>NaN</td>\n",
       "      <td>NaN</td>\n",
       "      <td>0.0</td>\n",
       "      <td>NaN</td>\n",
       "      <td>NaN</td>\n",
       "      <td>NaN</td>\n",
       "      <td>NaN</td>\n",
       "      <td>...</td>\n",
       "      <td>NaN</td>\n",
       "      <td>NaN</td>\n",
       "      <td>0.12</td>\n",
       "      <td>0.0</td>\n",
       "      <td>NaN</td>\n",
       "      <td>NaN</td>\n",
       "      <td>3.5</td>\n",
       "      <td>15.46</td>\n",
       "      <td>NaN</td>\n",
       "      <td>0.36</td>\n",
       "    </tr>\n",
       "    <tr>\n",
       "      <th>3</th>\n",
       "      <td>food_5</td>\n",
       "      <td>NaN</td>\n",
       "      <td>NaN</td>\n",
       "      <td>NaN</td>\n",
       "      <td>0.068</td>\n",
       "      <td>0.0</td>\n",
       "      <td>0.045</td>\n",
       "      <td>0.75</td>\n",
       "      <td>0.314</td>\n",
       "      <td>NaN</td>\n",
       "      <td>...</td>\n",
       "      <td>NaN</td>\n",
       "      <td>NaN</td>\n",
       "      <td>0.89</td>\n",
       "      <td>0.0</td>\n",
       "      <td>NaN</td>\n",
       "      <td>NaN</td>\n",
       "      <td>3.3</td>\n",
       "      <td>86.35</td>\n",
       "      <td>NaN</td>\n",
       "      <td>0.20</td>\n",
       "    </tr>\n",
       "    <tr>\n",
       "      <th>4</th>\n",
       "      <td>food_6</td>\n",
       "      <td>NaN</td>\n",
       "      <td>NaN</td>\n",
       "      <td>NaN</td>\n",
       "      <td>0.115</td>\n",
       "      <td>0.0</td>\n",
       "      <td>0.091</td>\n",
       "      <td>0.58</td>\n",
       "      <td>0.508</td>\n",
       "      <td>NaN</td>\n",
       "      <td>...</td>\n",
       "      <td>NaN</td>\n",
       "      <td>NaN</td>\n",
       "      <td>1.13</td>\n",
       "      <td>0.0</td>\n",
       "      <td>0.0</td>\n",
       "      <td>NaN</td>\n",
       "      <td>41.6</td>\n",
       "      <td>93.22</td>\n",
       "      <td>NaN</td>\n",
       "      <td>0.54</td>\n",
       "    </tr>\n",
       "  </tbody>\n",
       "</table>\n",
       "<p>5 rows × 213 columns</p>\n",
       "</div>"
      ],
      "text/plain": [
       "  food_id  N_0  N_1  N_2    N_3  N_4    N_5   N_6    N_7  N_8  ...  N_202  \\\n",
       "0  food_0  NaN  NaN  NaN    NaN  0.0    NaN   NaN    NaN  NaN  ...    NaN   \n",
       "1  food_1  NaN  NaN  NaN    NaN  0.0    NaN   NaN    NaN  NaN  ...    NaN   \n",
       "2  food_4  NaN  NaN  NaN    NaN  0.0    NaN   NaN    NaN  NaN  ...    NaN   \n",
       "3  food_5  NaN  NaN  NaN  0.068  0.0  0.045  0.75  0.314  NaN  ...    NaN   \n",
       "4  food_6  NaN  NaN  NaN  0.115  0.0  0.091  0.58  0.508  NaN  ...    NaN   \n",
       "\n",
       "   N_203  N_204  N_205  N_206  N_207  N_208  N_209  N_210  N_211  \n",
       "0    NaN   0.02    0.0    NaN    NaN   30.5  92.82    NaN   0.92  \n",
       "1    NaN  23.90    0.0    NaN    NaN    0.0   2.41    NaN   3.31  \n",
       "2    NaN   0.12    0.0    NaN    NaN    3.5  15.46    NaN   0.36  \n",
       "3    NaN   0.89    0.0    NaN    NaN    3.3  86.35    NaN   0.20  \n",
       "4    NaN   1.13    0.0    0.0    NaN   41.6  93.22    NaN   0.54  \n",
       "\n",
       "[5 rows x 213 columns]"
      ]
     },
     "execution_count": 6,
     "metadata": {},
     "output_type": "execute_result"
    }
   ],
   "source": [
    "food = pd.concat([train_food, preliminary_a_food], axis = 0).reset_index(drop=True)\n",
    "food.head()"
   ]
  },
  {
   "cell_type": "code",
   "execution_count": null,
   "id": "17413ea3",
   "metadata": {},
   "outputs": [],
   "source": []
  },
  {
   "cell_type": "markdown",
   "id": "fc0c9a94",
   "metadata": {},
   "source": [
    "# 目标编码\n",
    "\n",
    "由于本题只有两个离散变量food_id和disease_id，而测试集中都是新的foodid。"
   ]
  },
  {
   "cell_type": "code",
   "execution_count": 7,
   "id": "4e22e4ad",
   "metadata": {
    "ExecuteTime": {
     "end_time": "2023-03-10T07:02:17.589850Z",
     "start_time": "2023-03-10T07:02:16.885901Z"
    }
   },
   "outputs": [
    {
     "name": "stderr",
     "output_type": "stream",
     "text": [
      "100%|████████████████████████████████████████████████████████████████████████████████████| 1/1 [00:00<00:00, 17.26it/s]\n",
      "100%|████████████████████████████████████████████████████████████████████████████████████| 1/1 [00:00<00:00, 17.23it/s]\n",
      "100%|████████████████████████████████████████████████████████████████████████████████████| 1/1 [00:00<00:00, 17.37it/s]\n",
      "100%|████████████████████████████████████████████████████████████████████████████████████| 1/1 [00:00<00:00, 17.06it/s]\n",
      "100%|████████████████████████████████████████████████████████████████████████████████████| 1/1 [00:00<00:00, 17.03it/s]\n",
      "100%|████████████████████████████████████████████████████████████████████████████████████| 1/1 [00:00<00:00, 16.33it/s]\n"
     ]
    }
   ],
   "source": [
    "cat_list = ['disease']\n",
    "def stat(df, df_merge, group_by, agg):\n",
    "    group = df.groupby(group_by).agg(agg)\n",
    "\n",
    "    columns = []\n",
    "    for on, methods in agg.items():\n",
    "        for method in methods:\n",
    "            columns.append('{}_{}_{}'.format('_'.join(group_by), on, method))\n",
    "    group.columns = columns\n",
    "    group.reset_index(inplace=True)\n",
    "    df_merge = df_merge.merge(group, on=group_by, how='left')\n",
    "\n",
    "    del (group)\n",
    "    gc.collect()\n",
    "    return df_merge\n",
    "\n",
    "\n",
    "def statis_feat(df_know, df_unknow,cat_list):\n",
    "    for f in tqdm(cat_list):\n",
    "        df_unknow = stat(df_know, df_unknow, [f], {'related': ['mean']})\n",
    "\n",
    "    return df_unknow\n",
    "\n",
    "\n",
    "df_train = data[~data['related'].isnull()]\n",
    "df_train = df_train.reset_index(drop=True)\n",
    "df_test = data[data['related'].isnull()]\n",
    "\n",
    "df_stas_feat = None\n",
    "kf = StratifiedKFold(n_splits=5, random_state=2020, shuffle=True)\n",
    "for train_index, val_index in kf.split(df_train, df_train['related']):\n",
    "    df_fold_train = df_train.iloc[train_index]\n",
    "    df_fold_val = df_train.iloc[val_index]\n",
    "\n",
    "    df_fold_val = statis_feat(df_fold_train, df_fold_val,cat_list)\n",
    "    df_stas_feat = pd.concat([df_stas_feat, df_fold_val], axis=0)\n",
    "\n",
    "    del (df_fold_train)\n",
    "    del (df_fold_val)\n",
    "    gc.collect()\n",
    "\n",
    "df_test = statis_feat(df_train, df_test,cat_list)\n",
    "data = pd.concat([df_stas_feat, df_test], axis=0)\n",
    "data = data.reset_index(drop=True)\n",
    "\n",
    "del (df_stas_feat)\n",
    "del (df_train)\n",
    "del (df_test)"
   ]
  },
  {
   "cell_type": "code",
   "execution_count": null,
   "id": "1b04ae19",
   "metadata": {},
   "outputs": [],
   "source": []
  },
  {
   "cell_type": "markdown",
   "id": "47b4adc2",
   "metadata": {},
   "source": [
    "# 疾病特征处理\n",
    "\n",
    "这里我们使用TruncatedSVD的方法，对疾病特征进行降维，维度均为128。"
   ]
  },
  {
   "cell_type": "code",
   "execution_count": 8,
   "id": "8236236e",
   "metadata": {
    "ExecuteTime": {
     "end_time": "2023-03-10T07:02:17.605764Z",
     "start_time": "2023-03-10T07:02:17.590850Z"
    }
   },
   "outputs": [],
   "source": [
    "f_col = [col for col in disease_feature1.columns if 'F' in col]"
   ]
  },
  {
   "cell_type": "code",
   "execution_count": 9,
   "id": "ad5bf25c",
   "metadata": {
    "ExecuteTime": {
     "end_time": "2023-03-10T07:02:17.762542Z",
     "start_time": "2023-03-10T07:02:17.606864Z"
    }
   },
   "outputs": [],
   "source": [
    "disease_feature_1_ = disease_feature1.copy()\n",
    "from sklearn.feature_extraction.text import CountVectorizer,TfidfVectorizer,TfidfTransformer \n",
    "from sklearn.decomposition import TruncatedSVD, SparsePCA\n",
    "disease_feature_1_ = disease_feature_1_.fillna(0)\n",
    "decom=TruncatedSVD(n_components=128, n_iter = 20, random_state=2023) \n",
    "\n",
    "decom_x=decom.fit_transform(disease_feature_1_.iloc[:,1:]) \n",
    "decom_feas=pd.DataFrame(decom_x)\n",
    "decom_feas.columns=['disease1_svd_'+str(i) for i in range(decom_x.shape[1])]"
   ]
  },
  {
   "cell_type": "code",
   "execution_count": 10,
   "id": "c9c86d43",
   "metadata": {
    "ExecuteTime": {
     "end_time": "2023-03-10T07:02:17.793754Z",
     "start_time": "2023-03-10T07:02:17.764440Z"
    }
   },
   "outputs": [],
   "source": [
    "disease_feature1 = disease_feature1[['disease_id']]\n",
    "for col in decom_feas:\n",
    "    disease_feature1[col] = decom_feas[col]"
   ]
  },
  {
   "cell_type": "code",
   "execution_count": 11,
   "id": "04cb42d4",
   "metadata": {
    "ExecuteTime": {
     "end_time": "2023-03-10T07:02:17.809770Z",
     "start_time": "2023-03-10T07:02:17.793754Z"
    }
   },
   "outputs": [],
   "source": [
    "f_col = [col for col in disease_feature2.columns if 'F' in col]"
   ]
  },
  {
   "cell_type": "code",
   "execution_count": 12,
   "id": "828549da",
   "metadata": {
    "ExecuteTime": {
     "end_time": "2023-03-10T07:02:18.092986Z",
     "start_time": "2023-03-10T07:02:17.810762Z"
    }
   },
   "outputs": [],
   "source": [
    "disease_feature_2_ = disease_feature2.copy()\n",
    "from sklearn.feature_extraction.text import CountVectorizer,TfidfVectorizer,TfidfTransformer \n",
    "from sklearn.decomposition import TruncatedSVD, SparsePCA\n",
    "disease_feature_2_ = disease_feature_2_.fillna(0)\n",
    "decom=TruncatedSVD(n_components=128, n_iter = 20, random_state=2023) \n",
    "\n",
    "decom_x=decom.fit_transform(disease_feature_2_.iloc[:,1:]) \n",
    "decom_feas=pd.DataFrame(decom_x)\n",
    "decom_feas.columns=['disease2_svd_'+str(i) for i in range(decom_x.shape[1])]"
   ]
  },
  {
   "cell_type": "code",
   "execution_count": 13,
   "id": "ae366286",
   "metadata": {
    "ExecuteTime": {
     "end_time": "2023-03-10T07:02:18.124282Z",
     "start_time": "2023-03-10T07:02:18.093986Z"
    }
   },
   "outputs": [],
   "source": [
    "disease_feature2 = disease_feature2[['disease_id']]\n",
    "for col in decom_feas:\n",
    "    disease_feature2[col] = decom_feas[col]"
   ]
  },
  {
   "cell_type": "code",
   "execution_count": 14,
   "id": "51aac80d",
   "metadata": {
    "ExecuteTime": {
     "end_time": "2023-03-10T07:02:18.140032Z",
     "start_time": "2023-03-10T07:02:18.125478Z"
    }
   },
   "outputs": [],
   "source": [
    "f_col = [col for col in disease_feature3.columns if 'F' in col]"
   ]
  },
  {
   "cell_type": "code",
   "execution_count": 15,
   "id": "661e33d1",
   "metadata": {
    "ExecuteTime": {
     "end_time": "2023-03-10T07:02:18.313034Z",
     "start_time": "2023-03-10T07:02:18.141066Z"
    }
   },
   "outputs": [],
   "source": [
    "disease_feature_3_ = disease_feature3.copy()\n",
    "from sklearn.feature_extraction.text import CountVectorizer,TfidfVectorizer,TfidfTransformer \n",
    "from sklearn.decomposition import TruncatedSVD, SparsePCA\n",
    "disease_feature_3_ = disease_feature_3_.fillna(0)\n",
    "decom=TruncatedSVD(n_components=128, n_iter = 20, random_state=2023) \n",
    "\n",
    "decom_x=decom.fit_transform(disease_feature_3_.iloc[:,1:]) \n",
    "decom_feas=pd.DataFrame(decom_x)\n",
    "decom_feas.columns=['disease3_svd_'+str(i) for i in range(decom_x.shape[1])]"
   ]
  },
  {
   "cell_type": "code",
   "execution_count": 16,
   "id": "8373cca9",
   "metadata": {
    "ExecuteTime": {
     "end_time": "2023-03-10T07:02:18.345255Z",
     "start_time": "2023-03-10T07:02:18.313034Z"
    }
   },
   "outputs": [],
   "source": [
    "disease_feature3 = disease_feature3[['disease_id']]\n",
    "for col in decom_feas:\n",
    "    disease_feature3[col] = decom_feas[col]"
   ]
  },
  {
   "cell_type": "code",
   "execution_count": 17,
   "id": "0219cf18",
   "metadata": {
    "ExecuteTime": {
     "end_time": "2023-03-10T07:02:19.791658Z",
     "start_time": "2023-03-10T07:02:18.345255Z"
    }
   },
   "outputs": [
    {
     "data": {
      "text/html": [
       "<div>\n",
       "<style scoped>\n",
       "    .dataframe tbody tr th:only-of-type {\n",
       "        vertical-align: middle;\n",
       "    }\n",
       "\n",
       "    .dataframe tbody tr th {\n",
       "        vertical-align: top;\n",
       "    }\n",
       "\n",
       "    .dataframe thead th {\n",
       "        text-align: right;\n",
       "    }\n",
       "</style>\n",
       "<table border=\"1\" class=\"dataframe\">\n",
       "  <thead>\n",
       "    <tr style=\"text-align: right;\">\n",
       "      <th></th>\n",
       "      <th>food_id</th>\n",
       "      <th>disease_id</th>\n",
       "      <th>related</th>\n",
       "      <th>food</th>\n",
       "      <th>disease</th>\n",
       "      <th>disease_related_mean</th>\n",
       "      <th>N_0</th>\n",
       "      <th>N_1</th>\n",
       "      <th>N_2</th>\n",
       "      <th>N_3</th>\n",
       "      <th>...</th>\n",
       "      <th>disease3_svd_118</th>\n",
       "      <th>disease3_svd_119</th>\n",
       "      <th>disease3_svd_120</th>\n",
       "      <th>disease3_svd_121</th>\n",
       "      <th>disease3_svd_122</th>\n",
       "      <th>disease3_svd_123</th>\n",
       "      <th>disease3_svd_124</th>\n",
       "      <th>disease3_svd_125</th>\n",
       "      <th>disease3_svd_126</th>\n",
       "      <th>disease3_svd_127</th>\n",
       "    </tr>\n",
       "  </thead>\n",
       "  <tbody>\n",
       "    <tr>\n",
       "      <th>0</th>\n",
       "      <td>food_0</td>\n",
       "      <td>disease_861</td>\n",
       "      <td>0.0</td>\n",
       "      <td>0</td>\n",
       "      <td>861</td>\n",
       "      <td>0.003521</td>\n",
       "      <td>NaN</td>\n",
       "      <td>NaN</td>\n",
       "      <td>NaN</td>\n",
       "      <td>NaN</td>\n",
       "      <td>...</td>\n",
       "      <td>0.003554</td>\n",
       "      <td>-0.050520</td>\n",
       "      <td>-0.049823</td>\n",
       "      <td>-0.017363</td>\n",
       "      <td>-0.116130</td>\n",
       "      <td>0.085801</td>\n",
       "      <td>0.072854</td>\n",
       "      <td>0.120381</td>\n",
       "      <td>0.033087</td>\n",
       "      <td>-0.025249</td>\n",
       "    </tr>\n",
       "    <tr>\n",
       "      <th>1</th>\n",
       "      <td>food_0</td>\n",
       "      <td>disease_839</td>\n",
       "      <td>0.0</td>\n",
       "      <td>0</td>\n",
       "      <td>839</td>\n",
       "      <td>0.007299</td>\n",
       "      <td>NaN</td>\n",
       "      <td>NaN</td>\n",
       "      <td>NaN</td>\n",
       "      <td>NaN</td>\n",
       "      <td>...</td>\n",
       "      <td>-0.004057</td>\n",
       "      <td>0.011732</td>\n",
       "      <td>-0.012960</td>\n",
       "      <td>-0.005264</td>\n",
       "      <td>0.024481</td>\n",
       "      <td>-0.021813</td>\n",
       "      <td>-0.020103</td>\n",
       "      <td>0.079306</td>\n",
       "      <td>0.056902</td>\n",
       "      <td>-0.012589</td>\n",
       "    </tr>\n",
       "    <tr>\n",
       "      <th>2</th>\n",
       "      <td>food_0</td>\n",
       "      <td>disease_50</td>\n",
       "      <td>0.0</td>\n",
       "      <td>0</td>\n",
       "      <td>50</td>\n",
       "      <td>0.018382</td>\n",
       "      <td>NaN</td>\n",
       "      <td>NaN</td>\n",
       "      <td>NaN</td>\n",
       "      <td>NaN</td>\n",
       "      <td>...</td>\n",
       "      <td>0.082889</td>\n",
       "      <td>-0.008238</td>\n",
       "      <td>-0.058866</td>\n",
       "      <td>0.072690</td>\n",
       "      <td>-0.040983</td>\n",
       "      <td>0.001735</td>\n",
       "      <td>-0.031011</td>\n",
       "      <td>0.012370</td>\n",
       "      <td>-0.016576</td>\n",
       "      <td>0.062942</td>\n",
       "    </tr>\n",
       "    <tr>\n",
       "      <th>3</th>\n",
       "      <td>food_0</td>\n",
       "      <td>disease_1370</td>\n",
       "      <td>0.0</td>\n",
       "      <td>0</td>\n",
       "      <td>1370</td>\n",
       "      <td>0.214286</td>\n",
       "      <td>NaN</td>\n",
       "      <td>NaN</td>\n",
       "      <td>NaN</td>\n",
       "      <td>NaN</td>\n",
       "      <td>...</td>\n",
       "      <td>-0.114083</td>\n",
       "      <td>0.041070</td>\n",
       "      <td>-0.060834</td>\n",
       "      <td>0.031545</td>\n",
       "      <td>0.020605</td>\n",
       "      <td>0.045850</td>\n",
       "      <td>0.060787</td>\n",
       "      <td>-0.054691</td>\n",
       "      <td>-0.081137</td>\n",
       "      <td>-0.041880</td>\n",
       "    </tr>\n",
       "    <tr>\n",
       "      <th>4</th>\n",
       "      <td>food_0</td>\n",
       "      <td>disease_1015</td>\n",
       "      <td>0.0</td>\n",
       "      <td>0</td>\n",
       "      <td>1015</td>\n",
       "      <td>0.202749</td>\n",
       "      <td>NaN</td>\n",
       "      <td>NaN</td>\n",
       "      <td>NaN</td>\n",
       "      <td>NaN</td>\n",
       "      <td>...</td>\n",
       "      <td>-0.035130</td>\n",
       "      <td>-0.033633</td>\n",
       "      <td>-0.015799</td>\n",
       "      <td>-0.042921</td>\n",
       "      <td>0.035031</td>\n",
       "      <td>0.071032</td>\n",
       "      <td>-0.097231</td>\n",
       "      <td>0.081445</td>\n",
       "      <td>-0.014732</td>\n",
       "      <td>0.010713</td>\n",
       "    </tr>\n",
       "  </tbody>\n",
       "</table>\n",
       "<p>5 rows × 602 columns</p>\n",
       "</div>"
      ],
      "text/plain": [
       "  food_id    disease_id  related  food  disease  disease_related_mean  N_0  \\\n",
       "0  food_0   disease_861      0.0     0      861              0.003521  NaN   \n",
       "1  food_0   disease_839      0.0     0      839              0.007299  NaN   \n",
       "2  food_0    disease_50      0.0     0       50              0.018382  NaN   \n",
       "3  food_0  disease_1370      0.0     0     1370              0.214286  NaN   \n",
       "4  food_0  disease_1015      0.0     0     1015              0.202749  NaN   \n",
       "\n",
       "   N_1  N_2  N_3  ...  disease3_svd_118  disease3_svd_119  disease3_svd_120  \\\n",
       "0  NaN  NaN  NaN  ...          0.003554         -0.050520         -0.049823   \n",
       "1  NaN  NaN  NaN  ...         -0.004057          0.011732         -0.012960   \n",
       "2  NaN  NaN  NaN  ...          0.082889         -0.008238         -0.058866   \n",
       "3  NaN  NaN  NaN  ...         -0.114083          0.041070         -0.060834   \n",
       "4  NaN  NaN  NaN  ...         -0.035130         -0.033633         -0.015799   \n",
       "\n",
       "   disease3_svd_121  disease3_svd_122  disease3_svd_123  disease3_svd_124  \\\n",
       "0         -0.017363         -0.116130          0.085801          0.072854   \n",
       "1         -0.005264          0.024481         -0.021813         -0.020103   \n",
       "2          0.072690         -0.040983          0.001735         -0.031011   \n",
       "3          0.031545          0.020605          0.045850          0.060787   \n",
       "4         -0.042921          0.035031          0.071032         -0.097231   \n",
       "\n",
       "   disease3_svd_125  disease3_svd_126  disease3_svd_127  \n",
       "0          0.120381          0.033087         -0.025249  \n",
       "1          0.079306          0.056902         -0.012589  \n",
       "2          0.012370         -0.016576          0.062942  \n",
       "3         -0.054691         -0.081137         -0.041880  \n",
       "4          0.081445         -0.014732          0.010713  \n",
       "\n",
       "[5 rows x 602 columns]"
      ]
     },
     "execution_count": 17,
     "metadata": {},
     "output_type": "execute_result"
    }
   ],
   "source": [
    "data = data.merge(food, on = 'food_id', how = 'left')\n",
    "data = data.merge(disease_feature1, on = 'disease_id', how = 'left')\n",
    "data = data.merge(disease_feature2, on = 'disease_id', how = 'left')\n",
    "data = data.merge(disease_feature3, on = 'disease_id', how = 'left')\n",
    "data.head()"
   ]
  },
  {
   "cell_type": "code",
   "execution_count": null,
   "id": "fcede427",
   "metadata": {},
   "outputs": [],
   "source": []
  },
  {
   "cell_type": "markdown",
   "id": "d5ec956e",
   "metadata": {},
   "source": [
    "# 交叉特征\n",
    "\n",
    "这里我们按照特征重要性选取靠前的部分特征进行交叉。"
   ]
  },
  {
   "cell_type": "code",
   "execution_count": 18,
   "id": "b134698c",
   "metadata": {
    "ExecuteTime": {
     "end_time": "2023-03-10T07:02:19.855658Z",
     "start_time": "2023-03-10T07:02:19.793659Z"
    }
   },
   "outputs": [],
   "source": [
    "topn = ['N_33', 'N_198', 'N_74','disease','food']\n",
    "for i in range(len(topn)):\n",
    "    for j in range(i + 1, len(topn)):\n",
    "        data[f'{topn[i]}+{topn[j]}'] = data[topn[i]] + data[topn[j]]\n",
    "        data[f'{topn[i]}-{topn[j]}'] = data[topn[i]] - data[topn[j]]\n",
    "        data[f'{topn[i]}*{topn[j]}'] = data[topn[i]] * data[topn[j]]\n",
    "        data[f'{topn[i]}/{topn[j]}'] = data[topn[i]] / (data[topn[j]]+1e-5)"
   ]
  },
  {
   "cell_type": "code",
   "execution_count": null,
   "id": "66f1d800",
   "metadata": {},
   "outputs": [],
   "source": []
  },
  {
   "cell_type": "code",
   "execution_count": 19,
   "id": "6ecb8a71",
   "metadata": {
    "ExecuteTime": {
     "end_time": "2023-03-10T07:02:19.870658Z",
     "start_time": "2023-03-10T07:02:19.856658Z"
    }
   },
   "outputs": [],
   "source": [
    "drop_cols = ['disease_id', 'food_id', 'related']"
   ]
  },
  {
   "cell_type": "markdown",
   "id": "e2047a42",
   "metadata": {},
   "source": [
    "# 特征筛选\n",
    "\n",
    "去除掉只有单一取值的特征"
   ]
  },
  {
   "cell_type": "code",
   "execution_count": 20,
   "id": "381dec26",
   "metadata": {
    "ExecuteTime": {
     "end_time": "2023-03-10T07:02:21.021967Z",
     "start_time": "2023-03-10T07:02:19.871658Z"
    }
   },
   "outputs": [],
   "source": [
    "for f in data.columns:\n",
    "    if data[f].nunique() < 2:\n",
    "        drop_cols.append(f)"
   ]
  },
  {
   "cell_type": "code",
   "execution_count": 21,
   "id": "2a464033",
   "metadata": {
    "ExecuteTime": {
     "end_time": "2023-03-10T07:02:22.245243Z",
     "start_time": "2023-03-10T07:02:21.021967Z"
    }
   },
   "outputs": [],
   "source": [
    "test_df = data[data[\"related\"].isnull() == True].copy().reset_index(drop=True)\n",
    "train_df = data[~data[\"related\"].isnull() == True].copy().reset_index(drop=True)"
   ]
  },
  {
   "cell_type": "code",
   "execution_count": 22,
   "id": "a6678ec4",
   "metadata": {
    "ExecuteTime": {
     "end_time": "2023-03-10T07:02:22.754284Z",
     "start_time": "2023-03-10T07:02:22.246245Z"
    },
    "scrolled": true
   },
   "outputs": [
    {
     "name": "stdout",
     "output_type": "stream",
     "text": [
      "604\n",
      "['food', 'disease', 'disease_related_mean', 'N_0', 'N_1', 'N_3', 'N_4', 'N_5', 'N_6', 'N_7', 'N_9', 'N_10', 'N_11', 'N_13', 'N_14', 'N_16', 'N_17', 'N_18', 'N_19', 'N_20', 'N_22', 'N_28', 'N_30', 'N_33', 'N_35', 'N_37', 'N_40', 'N_42', 'N_43', 'N_44', 'N_45', 'N_46', 'N_47', 'N_48', 'N_49', 'N_50', 'N_51', 'N_52', 'N_53', 'N_54', 'N_55', 'N_56', 'N_57', 'N_58', 'N_59', 'N_60', 'N_61', 'N_62', 'N_63', 'N_64', 'N_67', 'N_68', 'N_69', 'N_71', 'N_72', 'N_73', 'N_74', 'N_75', 'N_76', 'N_77', 'N_78', 'N_79', 'N_80', 'N_81', 'N_82', 'N_84', 'N_85', 'N_86', 'N_87', 'N_88', 'N_89', 'N_90', 'N_91', 'N_92', 'N_93', 'N_94', 'N_95', 'N_96', 'N_97', 'N_98', 'N_99', 'N_100', 'N_101', 'N_102', 'N_104', 'N_105', 'N_106', 'N_109', 'N_111', 'N_112', 'N_113', 'N_114', 'N_115', 'N_116', 'N_118', 'N_119', 'N_120', 'N_121', 'N_122', 'N_123', 'N_124', 'N_125', 'N_126', 'N_127', 'N_128', 'N_129', 'N_131', 'N_132', 'N_133', 'N_134', 'N_135', 'N_136', 'N_138', 'N_139', 'N_140', 'N_141', 'N_142', 'N_145', 'N_146', 'N_147', 'N_148', 'N_149', 'N_151', 'N_152', 'N_153', 'N_154', 'N_155', 'N_156', 'N_157', 'N_158', 'N_160', 'N_161', 'N_162', 'N_163', 'N_164', 'N_165', 'N_166', 'N_167', 'N_168', 'N_169', 'N_170', 'N_171', 'N_172', 'N_173', 'N_174', 'N_175', 'N_176', 'N_177', 'N_178', 'N_179', 'N_180', 'N_181', 'N_182', 'N_183', 'N_184', 'N_185', 'N_187', 'N_188', 'N_190', 'N_191', 'N_192', 'N_193', 'N_194', 'N_195', 'N_196', 'N_197', 'N_198', 'N_199', 'N_200', 'N_201', 'N_202', 'N_203', 'N_204', 'N_205', 'N_206', 'N_207', 'N_208', 'N_209', 'N_210', 'N_211', 'disease1_svd_0', 'disease1_svd_1', 'disease1_svd_2', 'disease1_svd_3', 'disease1_svd_4', 'disease1_svd_5', 'disease1_svd_6', 'disease1_svd_7', 'disease1_svd_8', 'disease1_svd_9', 'disease1_svd_10', 'disease1_svd_11', 'disease1_svd_12', 'disease1_svd_13', 'disease1_svd_14', 'disease1_svd_15', 'disease1_svd_16', 'disease1_svd_17', 'disease1_svd_18', 'disease1_svd_19', 'disease1_svd_20', 'disease1_svd_21', 'disease1_svd_22', 'disease1_svd_23', 'disease1_svd_24', 'disease1_svd_25', 'disease1_svd_26', 'disease1_svd_27', 'disease1_svd_28', 'disease1_svd_29', 'disease1_svd_30', 'disease1_svd_31', 'disease1_svd_32', 'disease1_svd_33', 'disease1_svd_34', 'disease1_svd_35', 'disease1_svd_36', 'disease1_svd_37', 'disease1_svd_38', 'disease1_svd_39', 'disease1_svd_40', 'disease1_svd_41', 'disease1_svd_42', 'disease1_svd_43', 'disease1_svd_44', 'disease1_svd_45', 'disease1_svd_46', 'disease1_svd_47', 'disease1_svd_48', 'disease1_svd_49', 'disease1_svd_50', 'disease1_svd_51', 'disease1_svd_52', 'disease1_svd_53', 'disease1_svd_54', 'disease1_svd_55', 'disease1_svd_56', 'disease1_svd_57', 'disease1_svd_58', 'disease1_svd_59', 'disease1_svd_60', 'disease1_svd_61', 'disease1_svd_62', 'disease1_svd_63', 'disease1_svd_64', 'disease1_svd_65', 'disease1_svd_66', 'disease1_svd_67', 'disease1_svd_68', 'disease1_svd_69', 'disease1_svd_70', 'disease1_svd_71', 'disease1_svd_72', 'disease1_svd_73', 'disease1_svd_74', 'disease1_svd_75', 'disease1_svd_76', 'disease1_svd_77', 'disease1_svd_78', 'disease1_svd_79', 'disease1_svd_80', 'disease1_svd_81', 'disease1_svd_82', 'disease1_svd_83', 'disease1_svd_84', 'disease1_svd_85', 'disease1_svd_86', 'disease1_svd_87', 'disease1_svd_88', 'disease1_svd_89', 'disease1_svd_90', 'disease1_svd_91', 'disease1_svd_92', 'disease1_svd_93', 'disease1_svd_94', 'disease1_svd_95', 'disease1_svd_96', 'disease1_svd_97', 'disease1_svd_98', 'disease1_svd_99', 'disease1_svd_100', 'disease1_svd_101', 'disease1_svd_102', 'disease1_svd_103', 'disease1_svd_104', 'disease1_svd_105', 'disease1_svd_106', 'disease1_svd_107', 'disease1_svd_108', 'disease1_svd_109', 'disease1_svd_110', 'disease1_svd_111', 'disease1_svd_112', 'disease1_svd_113', 'disease1_svd_114', 'disease1_svd_115', 'disease1_svd_116', 'disease1_svd_117', 'disease1_svd_118', 'disease1_svd_119', 'disease1_svd_120', 'disease1_svd_121', 'disease1_svd_122', 'disease1_svd_123', 'disease1_svd_124', 'disease1_svd_125', 'disease1_svd_126', 'disease1_svd_127', 'disease2_svd_0', 'disease2_svd_1', 'disease2_svd_2', 'disease2_svd_3', 'disease2_svd_4', 'disease2_svd_5', 'disease2_svd_6', 'disease2_svd_7', 'disease2_svd_8', 'disease2_svd_9', 'disease2_svd_10', 'disease2_svd_11', 'disease2_svd_12', 'disease2_svd_13', 'disease2_svd_14', 'disease2_svd_15', 'disease2_svd_16', 'disease2_svd_17', 'disease2_svd_18', 'disease2_svd_19', 'disease2_svd_20', 'disease2_svd_21', 'disease2_svd_22', 'disease2_svd_23', 'disease2_svd_24', 'disease2_svd_25', 'disease2_svd_26', 'disease2_svd_27', 'disease2_svd_28', 'disease2_svd_29', 'disease2_svd_30', 'disease2_svd_31', 'disease2_svd_32', 'disease2_svd_33', 'disease2_svd_34', 'disease2_svd_35', 'disease2_svd_36', 'disease2_svd_37', 'disease2_svd_38', 'disease2_svd_39', 'disease2_svd_40', 'disease2_svd_41', 'disease2_svd_42', 'disease2_svd_43', 'disease2_svd_44', 'disease2_svd_45', 'disease2_svd_46', 'disease2_svd_47', 'disease2_svd_48', 'disease2_svd_49', 'disease2_svd_50', 'disease2_svd_51', 'disease2_svd_52', 'disease2_svd_53', 'disease2_svd_54', 'disease2_svd_55', 'disease2_svd_56', 'disease2_svd_57', 'disease2_svd_58', 'disease2_svd_59', 'disease2_svd_60', 'disease2_svd_61', 'disease2_svd_62', 'disease2_svd_63', 'disease2_svd_64', 'disease2_svd_65', 'disease2_svd_66', 'disease2_svd_67', 'disease2_svd_68', 'disease2_svd_69', 'disease2_svd_70', 'disease2_svd_71', 'disease2_svd_72', 'disease2_svd_73', 'disease2_svd_74', 'disease2_svd_75', 'disease2_svd_76', 'disease2_svd_77', 'disease2_svd_78', 'disease2_svd_79', 'disease2_svd_80', 'disease2_svd_81', 'disease2_svd_82', 'disease2_svd_83', 'disease2_svd_84', 'disease2_svd_85', 'disease2_svd_86', 'disease2_svd_87', 'disease2_svd_88', 'disease2_svd_89', 'disease2_svd_90', 'disease2_svd_91', 'disease2_svd_92', 'disease2_svd_93', 'disease2_svd_94', 'disease2_svd_95', 'disease2_svd_96', 'disease2_svd_97', 'disease2_svd_98', 'disease2_svd_99', 'disease2_svd_100', 'disease2_svd_101', 'disease2_svd_102', 'disease2_svd_103', 'disease2_svd_104', 'disease2_svd_105', 'disease2_svd_106', 'disease2_svd_107', 'disease2_svd_108', 'disease2_svd_109', 'disease2_svd_110', 'disease2_svd_111', 'disease2_svd_112', 'disease2_svd_113', 'disease2_svd_114', 'disease2_svd_115', 'disease2_svd_116', 'disease2_svd_117', 'disease2_svd_118', 'disease2_svd_119', 'disease2_svd_120', 'disease2_svd_121', 'disease2_svd_122', 'disease2_svd_123', 'disease2_svd_124', 'disease2_svd_125', 'disease2_svd_126', 'disease2_svd_127', 'disease3_svd_0', 'disease3_svd_1', 'disease3_svd_2', 'disease3_svd_3', 'disease3_svd_4', 'disease3_svd_5', 'disease3_svd_6', 'disease3_svd_7', 'disease3_svd_8', 'disease3_svd_9', 'disease3_svd_10', 'disease3_svd_11', 'disease3_svd_12', 'disease3_svd_13', 'disease3_svd_14', 'disease3_svd_15', 'disease3_svd_16', 'disease3_svd_17', 'disease3_svd_18', 'disease3_svd_19', 'disease3_svd_20', 'disease3_svd_21', 'disease3_svd_22', 'disease3_svd_23', 'disease3_svd_24', 'disease3_svd_25', 'disease3_svd_26', 'disease3_svd_27', 'disease3_svd_28', 'disease3_svd_29', 'disease3_svd_30', 'disease3_svd_31', 'disease3_svd_32', 'disease3_svd_33', 'disease3_svd_34', 'disease3_svd_35', 'disease3_svd_36', 'disease3_svd_37', 'disease3_svd_38', 'disease3_svd_39', 'disease3_svd_40', 'disease3_svd_41', 'disease3_svd_42', 'disease3_svd_43', 'disease3_svd_44', 'disease3_svd_45', 'disease3_svd_46', 'disease3_svd_47', 'disease3_svd_48', 'disease3_svd_49', 'disease3_svd_50', 'disease3_svd_51', 'disease3_svd_52', 'disease3_svd_53', 'disease3_svd_54', 'disease3_svd_55', 'disease3_svd_56', 'disease3_svd_57', 'disease3_svd_58', 'disease3_svd_59', 'disease3_svd_60', 'disease3_svd_61', 'disease3_svd_62', 'disease3_svd_63', 'disease3_svd_64', 'disease3_svd_65', 'disease3_svd_66', 'disease3_svd_67', 'disease3_svd_68', 'disease3_svd_69', 'disease3_svd_70', 'disease3_svd_71', 'disease3_svd_72', 'disease3_svd_73', 'disease3_svd_74', 'disease3_svd_75', 'disease3_svd_76', 'disease3_svd_77', 'disease3_svd_78', 'disease3_svd_79', 'disease3_svd_80', 'disease3_svd_81', 'disease3_svd_82', 'disease3_svd_83', 'disease3_svd_84', 'disease3_svd_85', 'disease3_svd_86', 'disease3_svd_87', 'disease3_svd_88', 'disease3_svd_89', 'disease3_svd_90', 'disease3_svd_91', 'disease3_svd_92', 'disease3_svd_93', 'disease3_svd_94', 'disease3_svd_95', 'disease3_svd_96', 'disease3_svd_97', 'disease3_svd_98', 'disease3_svd_99', 'disease3_svd_100', 'disease3_svd_101', 'disease3_svd_102', 'disease3_svd_103', 'disease3_svd_104', 'disease3_svd_105', 'disease3_svd_106', 'disease3_svd_107', 'disease3_svd_108', 'disease3_svd_109', 'disease3_svd_110', 'disease3_svd_111', 'disease3_svd_112', 'disease3_svd_113', 'disease3_svd_114', 'disease3_svd_115', 'disease3_svd_116', 'disease3_svd_117', 'disease3_svd_118', 'disease3_svd_119', 'disease3_svd_120', 'disease3_svd_121', 'disease3_svd_122', 'disease3_svd_123', 'disease3_svd_124', 'disease3_svd_125', 'disease3_svd_126', 'disease3_svd_127', 'N_33+N_198', 'N_33-N_198', 'N_33*N_198', 'N_33/N_198', 'N_33+N_74', 'N_33-N_74', 'N_33*N_74', 'N_33/N_74', 'N_33+disease', 'N_33-disease', 'N_33*disease', 'N_33/disease', 'N_33+food', 'N_33-food', 'N_33*food', 'N_33/food', 'N_198+N_74', 'N_198-N_74', 'N_198*N_74', 'N_198/N_74', 'N_198+disease', 'N_198-disease', 'N_198*disease', 'N_198/disease', 'N_198+food', 'N_198-food', 'N_198*food', 'N_198/food', 'N_74+disease', 'N_74-disease', 'N_74*disease', 'N_74/disease', 'N_74+food', 'N_74-food', 'N_74*food', 'N_74/food', 'disease+food', 'disease-food', 'disease*food', 'disease/food']\n"
     ]
    }
   ],
   "source": [
    "feature_name = [f for f in train_df.columns if f not in drop_cols]\n",
    "X_train = train_df[feature_name].reset_index(drop=True)\n",
    "X_test = test_df[feature_name].reset_index(drop=True)\n",
    "y = train_df['related'].reset_index(drop=True)\n",
    "print(len(feature_name))\n",
    "print(feature_name)"
   ]
  },
  {
   "cell_type": "code",
   "execution_count": 23,
   "id": "5fd90c70",
   "metadata": {
    "ExecuteTime": {
     "end_time": "2023-03-10T07:02:22.770251Z",
     "start_time": "2023-03-10T07:02:22.755245Z"
    }
   },
   "outputs": [
    {
     "name": "stdout",
     "output_type": "stream",
     "text": [
      "(46805, 642)\n"
     ]
    }
   ],
   "source": [
    "print(test_df.shape)"
   ]
  },
  {
   "cell_type": "code",
   "execution_count": null,
   "id": "e806e3b2",
   "metadata": {},
   "outputs": [],
   "source": []
  },
  {
   "cell_type": "markdown",
   "id": "7b82ed4f",
   "metadata": {},
   "source": [
    "# 模型训练\n",
    "\n",
    "本次仅使用lightgbm模型来训练。"
   ]
  },
  {
   "cell_type": "code",
   "execution_count": 24,
   "id": "2c6cae8e",
   "metadata": {
    "ExecuteTime": {
     "end_time": "2023-03-10T07:02:22.786253Z",
     "start_time": "2023-03-10T07:02:22.771244Z"
    }
   },
   "outputs": [],
   "source": [
    "train_pred = {}\n",
    "test_pred = {}"
   ]
  },
  {
   "cell_type": "code",
   "execution_count": 25,
   "id": "92290359",
   "metadata": {
    "ExecuteTime": {
     "end_time": "2023-03-10T07:29:51.957756Z",
     "start_time": "2023-03-10T07:02:22.787243Z"
    },
    "scrolled": true
   },
   "outputs": [
    {
     "name": "stdout",
     "output_type": "stream",
     "text": [
      "2 --------------------------------------------------------------------------------------------\n",
      "Training until validation scores don't improve for 100 rounds\n",
      "[100]\tvalid_0's auc: 0.949011\n",
      "[200]\tvalid_0's auc: 0.959428\n",
      "[300]\tvalid_0's auc: 0.964237\n",
      "[400]\tvalid_0's auc: 0.967135\n",
      "[500]\tvalid_0's auc: 0.969305\n",
      "[600]\tvalid_0's auc: 0.970735\n",
      "[700]\tvalid_0's auc: 0.971742\n",
      "[800]\tvalid_0's auc: 0.972598\n",
      "[900]\tvalid_0's auc: 0.973362\n",
      "[1000]\tvalid_0's auc: 0.974028\n",
      "[1100]\tvalid_0's auc: 0.974542\n",
      "[1200]\tvalid_0's auc: 0.975137\n",
      "[1300]\tvalid_0's auc: 0.975465\n",
      "[1400]\tvalid_0's auc: 0.97575\n",
      "[1500]\tvalid_0's auc: 0.976081\n",
      "[1600]\tvalid_0's auc: 0.976404\n",
      "[1700]\tvalid_0's auc: 0.976638\n",
      "[1800]\tvalid_0's auc: 0.97684\n",
      "[1900]\tvalid_0's auc: 0.976953\n",
      "[2000]\tvalid_0's auc: 0.977133\n",
      "[2100]\tvalid_0's auc: 0.977275\n",
      "[2200]\tvalid_0's auc: 0.97742\n",
      "[2300]\tvalid_0's auc: 0.977536\n",
      "[2400]\tvalid_0's auc: 0.977669\n",
      "[2500]\tvalid_0's auc: 0.977852\n",
      "[2600]\tvalid_0's auc: 0.977944\n",
      "[2700]\tvalid_0's auc: 0.978062\n",
      "[2800]\tvalid_0's auc: 0.978199\n",
      "[2900]\tvalid_0's auc: 0.978303\n",
      "[3000]\tvalid_0's auc: 0.978439\n",
      "[3100]\tvalid_0's auc: 0.97856\n",
      "[3200]\tvalid_0's auc: 0.978635\n",
      "[3300]\tvalid_0's auc: 0.978736\n",
      "[3400]\tvalid_0's auc: 0.978785\n",
      "[3500]\tvalid_0's auc: 0.97889\n",
      "[3600]\tvalid_0's auc: 0.978945\n",
      "[3700]\tvalid_0's auc: 0.979019\n",
      "[3800]\tvalid_0's auc: 0.979094\n",
      "[3900]\tvalid_0's auc: 0.979132\n",
      "[4000]\tvalid_0's auc: 0.979221\n",
      "[4100]\tvalid_0's auc: 0.979259\n",
      "[4200]\tvalid_0's auc: 0.979344\n",
      "[4300]\tvalid_0's auc: 0.979425\n",
      "[4400]\tvalid_0's auc: 0.979456\n",
      "Early stopping, best iteration is:\n",
      "[4378]\tvalid_0's auc: 0.979472\n",
      "Training until validation scores don't improve for 100 rounds\n",
      "[100]\tvalid_0's auc: 0.950167\n",
      "[200]\tvalid_0's auc: 0.960126\n",
      "[300]\tvalid_0's auc: 0.965056\n",
      "[400]\tvalid_0's auc: 0.967925\n",
      "[500]\tvalid_0's auc: 0.969817\n",
      "[600]\tvalid_0's auc: 0.971193\n",
      "[700]\tvalid_0's auc: 0.972303\n",
      "[800]\tvalid_0's auc: 0.972983\n",
      "[900]\tvalid_0's auc: 0.973711\n",
      "[1000]\tvalid_0's auc: 0.974164\n",
      "[1100]\tvalid_0's auc: 0.974675\n",
      "[1200]\tvalid_0's auc: 0.97513\n",
      "[1300]\tvalid_0's auc: 0.975435\n",
      "[1400]\tvalid_0's auc: 0.975723\n",
      "[1500]\tvalid_0's auc: 0.975945\n",
      "[1600]\tvalid_0's auc: 0.976112\n",
      "[1700]\tvalid_0's auc: 0.976295\n",
      "[1800]\tvalid_0's auc: 0.976533\n",
      "[1900]\tvalid_0's auc: 0.976834\n",
      "[2000]\tvalid_0's auc: 0.977004\n",
      "[2100]\tvalid_0's auc: 0.977181\n",
      "[2200]\tvalid_0's auc: 0.977391\n",
      "[2300]\tvalid_0's auc: 0.977575\n",
      "[2400]\tvalid_0's auc: 0.97768\n",
      "[2500]\tvalid_0's auc: 0.977758\n",
      "[2600]\tvalid_0's auc: 0.97788\n",
      "[2700]\tvalid_0's auc: 0.977947\n",
      "[2800]\tvalid_0's auc: 0.978076\n",
      "[2900]\tvalid_0's auc: 0.97815\n",
      "[3000]\tvalid_0's auc: 0.978268\n",
      "[3100]\tvalid_0's auc: 0.978282\n",
      "[3200]\tvalid_0's auc: 0.978351\n",
      "[3300]\tvalid_0's auc: 0.978422\n",
      "[3400]\tvalid_0's auc: 0.97857\n",
      "[3500]\tvalid_0's auc: 0.978634\n",
      "[3600]\tvalid_0's auc: 0.978717\n",
      "[3700]\tvalid_0's auc: 0.978753\n",
      "[3800]\tvalid_0's auc: 0.978836\n",
      "[3900]\tvalid_0's auc: 0.978934\n",
      "[4000]\tvalid_0's auc: 0.978936\n",
      "[4100]\tvalid_0's auc: 0.978985\n",
      "[4200]\tvalid_0's auc: 0.978985\n",
      "[4300]\tvalid_0's auc: 0.979018\n",
      "[4400]\tvalid_0's auc: 0.979063\n",
      "[4500]\tvalid_0's auc: 0.979074\n",
      "[4600]\tvalid_0's auc: 0.979095\n",
      "[4700]\tvalid_0's auc: 0.979173\n",
      "[4800]\tvalid_0's auc: 0.979199\n",
      "[4900]\tvalid_0's auc: 0.979269\n",
      "[5000]\tvalid_0's auc: 0.979258\n",
      "Early stopping, best iteration is:\n",
      "[4949]\tvalid_0's auc: 0.979291\n",
      "Training until validation scores don't improve for 100 rounds\n",
      "[100]\tvalid_0's auc: 0.94572\n",
      "[200]\tvalid_0's auc: 0.957084\n",
      "[300]\tvalid_0's auc: 0.962625\n",
      "[400]\tvalid_0's auc: 0.966032\n",
      "[500]\tvalid_0's auc: 0.968325\n",
      "[600]\tvalid_0's auc: 0.969875\n",
      "[700]\tvalid_0's auc: 0.971046\n",
      "[800]\tvalid_0's auc: 0.971896\n",
      "[900]\tvalid_0's auc: 0.972518\n",
      "[1000]\tvalid_0's auc: 0.973245\n",
      "[1100]\tvalid_0's auc: 0.973716\n",
      "[1200]\tvalid_0's auc: 0.974221\n",
      "[1300]\tvalid_0's auc: 0.974612\n",
      "[1400]\tvalid_0's auc: 0.974976\n",
      "[1500]\tvalid_0's auc: 0.975299\n",
      "[1600]\tvalid_0's auc: 0.975607\n",
      "[1700]\tvalid_0's auc: 0.975898\n",
      "[1800]\tvalid_0's auc: 0.976139\n",
      "[1900]\tvalid_0's auc: 0.976338\n",
      "[2000]\tvalid_0's auc: 0.97655\n",
      "[2100]\tvalid_0's auc: 0.976731\n",
      "[2200]\tvalid_0's auc: 0.976832\n",
      "[2300]\tvalid_0's auc: 0.976977\n",
      "[2400]\tvalid_0's auc: 0.977181\n",
      "[2500]\tvalid_0's auc: 0.977315\n",
      "[2600]\tvalid_0's auc: 0.977448\n",
      "[2700]\tvalid_0's auc: 0.977498\n",
      "[2800]\tvalid_0's auc: 0.977632\n",
      "[2900]\tvalid_0's auc: 0.977736\n",
      "[3000]\tvalid_0's auc: 0.977837\n",
      "[3100]\tvalid_0's auc: 0.977972\n",
      "[3200]\tvalid_0's auc: 0.978045\n",
      "[3300]\tvalid_0's auc: 0.978164\n",
      "[3400]\tvalid_0's auc: 0.978214\n",
      "[3500]\tvalid_0's auc: 0.978294\n",
      "[3600]\tvalid_0's auc: 0.978391\n",
      "[3700]\tvalid_0's auc: 0.978454\n",
      "[3800]\tvalid_0's auc: 0.978502\n",
      "[3900]\tvalid_0's auc: 0.978532\n",
      "[4000]\tvalid_0's auc: 0.978614\n",
      "[4100]\tvalid_0's auc: 0.978673\n",
      "[4200]\tvalid_0's auc: 0.978685\n",
      "[4300]\tvalid_0's auc: 0.978786\n",
      "[4400]\tvalid_0's auc: 0.978884\n",
      "[4500]\tvalid_0's auc: 0.978905\n",
      "[4600]\tvalid_0's auc: 0.978917\n",
      "[4700]\tvalid_0's auc: 0.978955\n",
      "[4800]\tvalid_0's auc: 0.979011\n",
      "[4900]\tvalid_0's auc: 0.979073\n",
      "[5000]\tvalid_0's auc: 0.979088\n",
      "Early stopping, best iteration is:\n",
      "[4934]\tvalid_0's auc: 0.979099\n",
      "Training until validation scores don't improve for 100 rounds\n",
      "[100]\tvalid_0's auc: 0.952605\n",
      "[200]\tvalid_0's auc: 0.96284\n",
      "[300]\tvalid_0's auc: 0.967409\n",
      "[400]\tvalid_0's auc: 0.971026\n",
      "[500]\tvalid_0's auc: 0.973086\n",
      "[600]\tvalid_0's auc: 0.974639\n",
      "[700]\tvalid_0's auc: 0.975666\n",
      "[800]\tvalid_0's auc: 0.97648\n",
      "[900]\tvalid_0's auc: 0.977277\n",
      "[1000]\tvalid_0's auc: 0.97777\n",
      "[1100]\tvalid_0's auc: 0.978243\n",
      "[1200]\tvalid_0's auc: 0.978633\n",
      "[1300]\tvalid_0's auc: 0.979101\n",
      "[1400]\tvalid_0's auc: 0.979477\n",
      "[1500]\tvalid_0's auc: 0.979677\n",
      "[1600]\tvalid_0's auc: 0.979942\n",
      "[1700]\tvalid_0's auc: 0.980274\n",
      "[1800]\tvalid_0's auc: 0.980459\n",
      "[1900]\tvalid_0's auc: 0.980622\n",
      "[2000]\tvalid_0's auc: 0.980815\n",
      "[2100]\tvalid_0's auc: 0.981075\n",
      "[2200]\tvalid_0's auc: 0.981216\n",
      "[2300]\tvalid_0's auc: 0.981354\n",
      "[2400]\tvalid_0's auc: 0.981497\n",
      "[2500]\tvalid_0's auc: 0.981647\n",
      "[2600]\tvalid_0's auc: 0.981788\n",
      "[2700]\tvalid_0's auc: 0.98186\n",
      "[2800]\tvalid_0's auc: 0.981972\n",
      "[2900]\tvalid_0's auc: 0.982037\n",
      "[3000]\tvalid_0's auc: 0.982123\n",
      "[3100]\tvalid_0's auc: 0.982213\n",
      "[3200]\tvalid_0's auc: 0.982336\n",
      "[3300]\tvalid_0's auc: 0.98241\n",
      "[3400]\tvalid_0's auc: 0.982488\n",
      "[3500]\tvalid_0's auc: 0.982542\n",
      "[3600]\tvalid_0's auc: 0.982632\n",
      "[3700]\tvalid_0's auc: 0.982682\n",
      "[3800]\tvalid_0's auc: 0.982709\n",
      "[3900]\tvalid_0's auc: 0.982751\n",
      "[4000]\tvalid_0's auc: 0.982778\n",
      "[4100]\tvalid_0's auc: 0.982879\n",
      "[4200]\tvalid_0's auc: 0.9829\n",
      "[4300]\tvalid_0's auc: 0.982924\n",
      "[4400]\tvalid_0's auc: 0.982973\n",
      "[4500]\tvalid_0's auc: 0.983014\n",
      "[4600]\tvalid_0's auc: 0.983077\n",
      "[4700]\tvalid_0's auc: 0.983125\n",
      "[4800]\tvalid_0's auc: 0.983177\n",
      "[4900]\tvalid_0's auc: 0.983205\n",
      "[5000]\tvalid_0's auc: 0.983212\n",
      "[5100]\tvalid_0's auc: 0.983243\n",
      "[5200]\tvalid_0's auc: 0.983261\n",
      "[5300]\tvalid_0's auc: 0.983282\n",
      "Early stopping, best iteration is:\n",
      "[5273]\tvalid_0's auc: 0.9833\n",
      "Training until validation scores don't improve for 100 rounds\n",
      "[100]\tvalid_0's auc: 0.951695\n",
      "[200]\tvalid_0's auc: 0.963019\n",
      "[300]\tvalid_0's auc: 0.967664\n",
      "[400]\tvalid_0's auc: 0.970644\n",
      "[500]\tvalid_0's auc: 0.972733\n",
      "[600]\tvalid_0's auc: 0.973968\n",
      "[700]\tvalid_0's auc: 0.974925\n",
      "[800]\tvalid_0's auc: 0.975823\n",
      "[900]\tvalid_0's auc: 0.97639\n",
      "[1000]\tvalid_0's auc: 0.97705\n",
      "[1100]\tvalid_0's auc: 0.977495\n",
      "[1200]\tvalid_0's auc: 0.97791\n",
      "[1300]\tvalid_0's auc: 0.978174\n",
      "[1400]\tvalid_0's auc: 0.978573\n",
      "[1500]\tvalid_0's auc: 0.978864\n",
      "[1600]\tvalid_0's auc: 0.97914\n",
      "[1700]\tvalid_0's auc: 0.979414\n",
      "[1800]\tvalid_0's auc: 0.979613\n",
      "[1900]\tvalid_0's auc: 0.979845\n",
      "[2000]\tvalid_0's auc: 0.979971\n",
      "[2100]\tvalid_0's auc: 0.980094\n",
      "[2200]\tvalid_0's auc: 0.980251\n",
      "[2300]\tvalid_0's auc: 0.980368\n",
      "[2400]\tvalid_0's auc: 0.980551\n",
      "[2500]\tvalid_0's auc: 0.980657\n",
      "[2600]\tvalid_0's auc: 0.980766\n",
      "[2700]\tvalid_0's auc: 0.980848\n",
      "[2800]\tvalid_0's auc: 0.980958\n",
      "[2900]\tvalid_0's auc: 0.98108\n",
      "[3000]\tvalid_0's auc: 0.98114\n",
      "[3100]\tvalid_0's auc: 0.981287\n",
      "[3200]\tvalid_0's auc: 0.981329\n",
      "[3300]\tvalid_0's auc: 0.981375\n",
      "[3400]\tvalid_0's auc: 0.981427\n",
      "[3500]\tvalid_0's auc: 0.98151\n",
      "[3600]\tvalid_0's auc: 0.981556\n",
      "[3700]\tvalid_0's auc: 0.98161\n",
      "[3800]\tvalid_0's auc: 0.981667\n",
      "Early stopping, best iteration is:\n",
      "[3730]\tvalid_0's auc: 0.981673\n"
     ]
    },
    {
     "data": {
      "text/plain": [
       "38"
      ]
     },
     "execution_count": 25,
     "metadata": {},
     "output_type": "execute_result"
    }
   ],
   "source": [
    "seeds = [2]\n",
    "num_model_seed = 1\n",
    "oof = np.zeros(X_train.shape[0])\n",
    "prediction = np.zeros(X_test.shape[0])\n",
    "feat_imp_df = pd.DataFrame({'feats': feature_name, 'imp': 0})\n",
    "parameters = {\n",
    "    'learning_rate': 0.01,\n",
    "    'boosting_type': 'gbdt',\n",
    "    'objective': 'binary',\n",
    "    'metric': 'auc',\n",
    "    'num_leaves': 63,\n",
    "    'feature_fraction': 0.8,\n",
    "    'bagging_fraction': 0.8,\n",
    "    'bagging_freq': 5,\n",
    "    'seed': 2022,\n",
    "    'bagging_seed': 1,\n",
    "    'feature_fraction_seed': 7,\n",
    "    'min_data_in_leaf': 20,\n",
    "    'verbose': -1, \n",
    "    'n_jobs':8\n",
    "}\n",
    "fold = 5\n",
    "for model_seed in range(num_model_seed):\n",
    "    print(seeds[model_seed],\"--------------------------------------------------------------------------------------------\")\n",
    "    oof_cat = np.zeros(X_train.shape[0])\n",
    "    prediction_cat = np.zeros(X_test.shape[0])\n",
    "    skf = StratifiedKFold(n_splits=fold, random_state=seeds[model_seed], shuffle=True)\n",
    "    for index, (train_index, test_index) in enumerate(skf.split(X_train, y)):\n",
    "        train_x, test_x, train_y, test_y = X_train[feature_name].iloc[train_index], X_train[feature_name].iloc[test_index], y.iloc[train_index], y.iloc[test_index]\n",
    "        dtrain = lgb.Dataset(train_x, label=train_y)\n",
    "        dval = lgb.Dataset(test_x, label=test_y)\n",
    "        lgb_model = lgb.train(\n",
    "            parameters,\n",
    "            dtrain,\n",
    "            num_boost_round=10000,\n",
    "            valid_sets=[dval],\n",
    "            early_stopping_rounds=100,\n",
    "            verbose_eval=100, )\n",
    "        oof_cat[test_index] += lgb_model.predict(test_x,num_iteration=lgb_model.best_iteration)\n",
    "        prediction_cat += lgb_model.predict(X_test,num_iteration=lgb_model.best_iteration) / fold\n",
    "        feat_imp_df['imp'] += lgb_model.feature_importance()\n",
    "\n",
    "        del train_x\n",
    "        del test_x\n",
    "        del train_y\n",
    "        del test_y\n",
    "        del lgb_model\n",
    "    oof += oof_cat / num_model_seed\n",
    "    prediction += prediction_cat / num_model_seed\n",
    "gc.collect()"
   ]
  },
  {
   "cell_type": "code",
   "execution_count": 26,
   "id": "0b14a554",
   "metadata": {
    "ExecuteTime": {
     "end_time": "2023-03-10T07:29:51.973755Z",
     "start_time": "2023-03-10T07:29:51.960756Z"
    }
   },
   "outputs": [],
   "source": [
    "train_pred['lgb'] = oof\n",
    "test_pred['lgb'] = prediction"
   ]
  },
  {
   "cell_type": "code",
   "execution_count": 44,
   "id": "d1f93c09",
   "metadata": {
    "ExecuteTime": {
     "end_time": "2023-03-10T07:44:28.151120Z",
     "start_time": "2023-03-10T07:44:28.101848Z"
    }
   },
   "outputs": [
    {
     "name": "stdout",
     "output_type": "stream",
     "text": [
      "lgb train auc:  0.9804982397526681\n"
     ]
    }
   ],
   "source": [
    "print(\"lgb train auc: \", roc_auc_score(y, train_pred['lgb']))"
   ]
  },
  {
   "cell_type": "code",
   "execution_count": 35,
   "id": "e061dbe1",
   "metadata": {
    "ExecuteTime": {
     "end_time": "2023-03-10T07:34:11.805340Z",
     "start_time": "2023-03-10T07:34:08.820324Z"
    },
    "scrolled": true
   },
   "outputs": [
    {
     "name": "stdout",
     "output_type": "stream",
     "text": [
      "0.10, 0.11, 0.12, 0.13, 0.14, 0.15, 0.16, 0.17, 0.18, 0.19, 0.20, 0.21, 0.22, 0.23, 0.24, 0.25, 0.26, 0.27, 0.28, 0.29, 0.30, 0.31, 0.32, 0.33, 0.34, 0.35, 0.36, 0.37, 0.38, 0.39, 0.40, 0.41, 0.42, 0.43, 0.44, 0.45, 0.46, 0.47, 0.48, 0.49, 0.50, 0.51, 0.52, 0.53, 0.54, 0.55, 0.56, 0.57, 0.58, 0.59, 0.60, 0.61, 0.62, 0.63, 0.64, 0.65, 0.66, 0.67, 0.68, 0.69, 0.70, 0.71, 0.72, 0.73, 0.74, 0.75, 0.76, 0.77, 0.78, 0.79, 0.80, 0.81, 0.82, 0.83, 0.84, 0.85, 0.86, 0.87, 0.88, 0.89, best_threshold: 0.3599999999999999 , best_score: 0.8237169039081459\n"
     ]
    }
   ],
   "source": [
    "scores = []; thresholds = []\n",
    "best_score = 0; best_threshold = 0\n",
    "\n",
    "for threshold in np.arange(0.1,0.9,0.01):\n",
    "    print(f'{threshold:.02f}, ',end='')\n",
    "    preds = (train_pred['lgb'].reshape((-1)) > threshold).astype('int')\n",
    "    m = f1_score(y.values.reshape((-1)), preds, average='binary')   \n",
    "    scores.append(m)\n",
    "    thresholds.append(threshold)\n",
    "    if m>best_score:\n",
    "        best_score = m\n",
    "        best_threshold = threshold\n",
    "print(\"best_threshold:\", best_threshold, \", best_score:\", best_score)"
   ]
  },
  {
   "cell_type": "code",
   "execution_count": 29,
   "id": "fe37e0fb",
   "metadata": {
    "ExecuteTime": {
     "end_time": "2023-03-10T07:29:55.295491Z",
     "start_time": "2023-03-10T07:29:55.124491Z"
    }
   },
   "outputs": [
    {
     "data": {
      "image/png": "[encoded data removed]",
      "text/plain": [
       "<Figure size 1440x360 with 1 Axes>"
      ]
     },
     "metadata": {
      "needs_background": "light"
     },
     "output_type": "display_data"
    }
   ],
   "source": [
    "import matplotlib.pyplot as plt\n",
    "\n",
    "# PLOT THRESHOLD VS. F1_SCORE\n",
    "plt.figure(figsize=(20,5))\n",
    "plt.plot(thresholds,scores,'-o',color='blue')\n",
    "plt.scatter([best_threshold], [best_score], color='blue', s=300, alpha=1)\n",
    "plt.xlabel('Threshold',size=14)\n",
    "plt.ylabel('Validation F1 Score',size=14)\n",
    "plt.title(f'Threshold vs. F1_Score with Best F1_Score = {best_score:.3f} at Best Threshold = {best_threshold:.3}',size=18)\n",
    "plt.show()"
   ]
  },
  {
   "cell_type": "code",
   "execution_count": 30,
   "id": "d08be9a9",
   "metadata": {
    "ExecuteTime": {
     "end_time": "2023-03-10T07:29:55.340500Z",
     "start_time": "2023-03-10T07:29:55.296491Z"
    }
   },
   "outputs": [
    {
     "name": "stdout",
     "output_type": "stream",
     "text": [
      "0.902107571830407\n"
     ]
    }
   ],
   "source": [
    "auc = roc_auc_score(y, train_pred['lgb'])\n",
    "f1 = best_score\n",
    "print((auc + f1) / 2)"
   ]
  },
  {
   "cell_type": "markdown",
   "id": "7b445314",
   "metadata": {},
   "source": [
    "# 生成提交结果\n",
    "\n",
    "这里我们控制1的个数为4100个左右，最终线上得分0.7956687074375137，f1:0.6540415704387991, auc:0.9372958444362285。"
   ]
  },
  {
   "cell_type": "code",
   "execution_count": 52,
   "id": "4eafbf3b",
   "metadata": {
    "ExecuteTime": {
     "end_time": "2023-03-10T07:46:20.734507Z",
     "start_time": "2023-03-10T07:46:20.716509Z"
    }
   },
   "outputs": [
    {
     "data": {
      "text/plain": [
       "4066"
      ]
     },
     "execution_count": 52,
     "metadata": {},
     "output_type": "execute_result"
    }
   ],
   "source": [
    "# label=[1 if x >= 0.265+0.235 else 0 for x in prediction+0.235]\n",
    "# np.sum(label)\n",
    "\n",
    "label=[1 if x >= 0.26+0.24 else 0 for x in prediction+0.24]\n",
    "np.sum(label)"
   ]
  },
  {
   "cell_type": "code",
   "execution_count": 32,
   "id": "a83442d6",
   "metadata": {
    "ExecuteTime": {
     "end_time": "2023-03-10T07:29:55.372498Z",
     "start_time": "2023-03-10T07:29:55.357491Z"
    }
   },
   "outputs": [],
   "source": [
    "# preliminary_a_submit_sample['related_prob'] = prediction+0.24"
   ]
  },
  {
   "cell_type": "code",
   "execution_count": 53,
   "id": "0cd704a7",
   "metadata": {
    "ExecuteTime": {
     "end_time": "2023-03-10T07:46:28.298386Z",
     "start_time": "2023-03-10T07:46:28.164228Z"
    }
   },
   "outputs": [],
   "source": [
    "preliminary_a_submit_sample.to_csv('./submission/submission30_2.csv', index=False)"
   ]
  },
  {
   "cell_type": "code",
   "execution_count": null,
   "id": "3cb2fe33",
   "metadata": {},
   "outputs": [],
   "source": []
  },
  {
   "cell_type": "markdown",
   "id": "51b170b4",
   "metadata": {},
   "source": [
    "# 进一步优化\n",
    "\n",
    "1. 由于foodid只有训练集有，那么是否可以使用food侧的特征，做相似度模型，例如共现矩阵、tfidf、embedding等。\n",
    "\n",
    "2. 目标编码做了之后，线下会涨很多但是线上长得比较少，还是过拟合比较严重，是否可以考虑根据疾病特征做聚类，然后减轻这种情况。同理food侧特征也可以做聚类，用来解决测试集都是训练集未曾出现过的id的问题。\n",
    "\n",
    "3. 交叉特征里面，对于food侧只取了一部分，是否可以多取一点（进一步上述base可以通过筛选food特征提升至7976的分数，但是会很抖）。\n",
    "\n",
    "4. 特征筛选的地方，并没有剔除缺失率高的特征，也没有根据对抗验证进行筛选，或许可以进行尝试。\n",
    "\n",
    "5. 模型训练的参数，学习率太低，叶子节点数太高，导致模型过拟合比较严重，可以考虑调参（可以上分）。\n",
    "\n",
    "6. 目前仅使用了lightgbm模型，可以考虑xgboost，catboost模型，进行模型的集成（xgb貌似还不错，需要祖传参数）。\n",
    "\n",
    "7. 上述base是1的个数为4100个，可以调整不同的个数来测试，亲测不同的特征组合哪怕只是添加一个，最优的1的个数都是不同的。米哥开源的7949的代码，只需调整1的个数就可以7956，可以考虑将两份base结合看是否可以得到更高的分数。\n",
    "\n",
    "8. svd的维度是可以调整的，不一定每个都是一样的。以及还可以使用pca的方法，不过需要进行归一化。"
   ]
  },
  {
   "cell_type": "code",
   "execution_count": null,
   "id": "2867318d",
   "metadata": {},
   "outputs": [],
   "source": []
  },
  {
   "cell_type": "code",
   "execution_count": null,
   "id": "987a4b3b",
   "metadata": {},
   "outputs": [],
   "source": []
  },
  {
   "cell_type": "code",
   "execution_count": null,
   "id": "f8a09603",
   "metadata": {},
   "outputs": [],
   "source": []
  }
 ],
 "metadata": {
  "kernelspec": {
   "display_name": "Python 3 (ipykernel)",
   "language": "python",
   "name": "python3"
  },
  "language_info": {
   "codemirror_mode": {
    "name": "ipython",
    "version": 3
   },
   "file_extension": ".py",
   "mimetype": "text/x-python",
   "name": "python",
   "nbconvert_exporter": "python",
   "pygments_lexer": "ipython3",
   "version": "3.9.12"
  },
  "metadata": {
   "interpreter": {
    "hash": "31f2aee4e71d21fbe5cf8b01ff0e069b9275f58929596ceb00d14d90e3e16cd6"
   }
  },
  "toc": {
   "base_numbering": 1,
   "nav_menu": {},
   "number_sections": true,
   "sideBar": true,
   "skip_h1_title": false,
   "title_cell": "Table of Contents",
   "title_sidebar": "Contents",
   "toc_cell": false,
   "toc_position": {},
   "toc_section_display": true,
   "toc_window_display": false
  }
 },
 "nbformat": 4,
 "nbformat_minor": 5
}
