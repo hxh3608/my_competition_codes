{
 "cells": [
  {
   "cell_type": "markdown",
   "id": "490debd9",
   "metadata": {},
   "source": [
    "# 导入第三方包"
   ]
  },
  {
   "cell_type": "code",
   "execution_count": null,
   "id": "721396a8",
   "metadata": {},
   "outputs": [],
   "source": [
    "import numpy as np\n",
    "import pandas as pd\n",
    "from collections import defaultdict, Counter\n",
    "import xgboost as xgb\n",
    "import lightgbm as lgb\n",
    "from catboost import CatBoostClassifier as cat\n",
    "from catboost import CatBoostClassifier, CatBoostRegressor\n",
    "from sklearn.model_selection import StratifiedKFold, KFold, GroupKFold\n",
    "from sklearn.metrics import accuracy_score, f1_score, roc_auc_score, log_loss, mean_squared_log_error, precision_recall_curve, precision_score, recall_score\n",
    "from sklearn.feature_extraction.text import TfidfVectorizer, CountVectorizer\n",
    "from sklearn.decomposition import TruncatedSVD, PCA\n",
    "from sklearn.model_selection import train_test_split\n",
    "from sklearn.preprocessing import MinMaxScaler, StandardScaler\n",
    "import pickle\n",
    "from sklearn.pipeline import Pipeline\n",
    "from sklearn.preprocessing import LabelEncoder\n",
    "\n",
    "from tqdm import tqdm\n",
    "from datetime import datetime\n",
    "import sys\n",
    "import os\n",
    "import gc\n",
    "import argparse\n",
    "import warnings\n",
    "warnings.filterwarnings('ignore')\n",
    "\n",
    "from sklearn.manifold import TSNE # 导入tsne包\n",
    "from sklearn.decomposition import PCA, KernelPCA # PCA\n",
    "from sklearn.manifold import Isomap # Isomap\n",
    "from sklearn.impute import KNNImputer\n",
    "import matplotlib.pyplot as plt"
   ]
  },
  {
   "cell_type": "markdown",
   "id": "aa39b68f",
   "metadata": {},
   "source": [
    "# 数据读取与基本处理"
   ]
  },
  {
   "cell_type": "markdown",
   "id": "588e5f05",
   "metadata": {},
   "source": [
    "## 数据读取¶"
   ]
  },
  {
   "cell_type": "code",
   "execution_count": null,
   "id": "c3711094",
   "metadata": {},
   "outputs": [],
   "source": [
    "# 初赛训练集数据\n",
    "credit_card_trans  = pd.read_csv('../input/赛题B_初赛/credit_card_trans.csv')\n",
    "debit_card_trans = pd.read_csv('../input/赛题B_初赛/debit_card_trans.csv')\n",
    "installment_info = pd.read_csv('../input/赛题B_初赛/installment_info.csv')\n",
    "mcc = pd.read_csv('../input/赛题B_初赛/mcc.csv')"
   ]
  },
  {
   "cell_type": "markdown",
   "id": "bcabd5de",
   "metadata": {},
   "source": [
    "## 数据处理"
   ]
  },
  {
   "cell_type": "code",
   "execution_count": null,
   "id": "9907df8e",
   "metadata": {},
   "outputs": [],
   "source": [
    "# 删除单一取值的特征\n",
    "for f in credit_card_trans.columns:\n",
    "#     print(credit_card_trans[f].nunique())\n",
    "    if credit_card_trans[f].nunique() < 2:\n",
    "        credit_card_trans = credit_card_trans.drop(f, axis=1)"
   ]
  },
  {
   "cell_type": "markdown",
   "id": "70ebb6d3",
   "metadata": {},
   "source": [
    "# 可视化数据及客户画像"
   ]
  },
  {
   "cell_type": "markdown",
   "id": "9afefc6a",
   "metadata": {},
   "source": [
    "##  credit_card_trans"
   ]
  },
  {
   "cell_type": "markdown",
   "id": "09b4f032",
   "metadata": {},
   "source": [
    "### 交易金额分布图"
   ]
  },
  {
   "cell_type": "code",
   "execution_count": null,
   "id": "4d03b1e2",
   "metadata": {},
   "outputs": [],
   "source": [
    "plt.hist(credit_card_trans['b45'], bins=20)\n",
    "plt.xlabel('Credit Card Transaction Amount')\n",
    "plt.ylabel('Frequency')\n",
    "plt.title('Credit Card Transaction Amount Distribution', fontsize=14, fontweight=\"bold\")\n",
    "plt.show()"
   ]
  },
  {
   "cell_type": "markdown",
   "id": "dec924e9",
   "metadata": {},
   "source": [
    "### 交易时间分布图"
   ]
  },
  {
   "cell_type": "code",
   "execution_count": null,
   "id": "bda341a4",
   "metadata": {},
   "outputs": [],
   "source": [
    "import seaborn as sns\n",
    "\n",
    "credit_card_trans['Credit Card Transaction Time'] = pd.to_datetime(credit_card_trans['b43'])\n",
    "credit_card_trans['Credit Card Transaction Hour'] = credit_card_trans['Credit Card Transaction Time'].dt.hour\n",
    "\n",
    "hourly_counts = credit_card_trans['Credit Card Transaction Hour'].value_counts().sort_index()\n",
    "\n",
    "sns.set(style=\"whitegrid\")\n",
    "\n",
    "plt.figure(figsize=(12, 6))\n",
    "sns.barplot(x=hourly_counts.index, y=hourly_counts.values, color='skyblue')\n",
    "plt.xlabel('Transaction Hour', fontsize=14)\n",
    "plt.ylabel('Transaction Count', fontsize=14)\n",
    "plt.title('Credit Card Transaction Time Distribution', fontsize=16, fontweight=\"bold\")\n",
    "plt.xticks(range(24), fontsize=12)\n",
    "plt.yticks(fontsize=12)\n",
    "plt.tight_layout()\n",
    "plt.show()"
   ]
  },
  {
   "cell_type": "markdown",
   "id": "5908f96e",
   "metadata": {},
   "source": [
    "### 商品类别分布图"
   ]
  },
  {
   "cell_type": "code",
   "execution_count": null,
   "id": "daf4041e",
   "metadata": {},
   "outputs": [],
   "source": [
    "# 统计不同商户类别的交易数量\n",
    "category_counts = credit_card_trans['b46'].value_counts()\n",
    "\n",
    "# 设置图表风格\n",
    "sns.set(style=\"whitegrid\")\n",
    "\n",
    "# 创建商户类别分布的条形图\n",
    "plt.figure(figsize=(10, 6))\n",
    "sns.barplot(x=category_counts.index, y=category_counts.values, color='skyblue')\n",
    "plt.xlabel('Merchant Category', fontsize=12)\n",
    "plt.ylabel('Transaction Count', fontsize=12)\n",
    "plt.title('Credit Card Merchant Category Distribution', fontsize=14, fontweight=\"bold\")\n",
    "plt.xticks(rotation=90, fontsize=10)\n",
    "plt.yticks(fontsize=10)\n",
    "plt.tight_layout()\n",
    "plt.show()"
   ]
  },
  {
   "cell_type": "markdown",
   "id": "ec4d82c4",
   "metadata": {},
   "source": [
    "## debit_card_trans"
   ]
  },
  {
   "cell_type": "markdown",
   "id": "896685a7",
   "metadata": {},
   "source": [
    "### 根据出入账，统计金额"
   ]
  },
  {
   "cell_type": "code",
   "execution_count": null,
   "id": "93fc512e",
   "metadata": {},
   "outputs": [],
   "source": [
    "# 根据出入账标记统计交易金额\n",
    "transaction_amount = debit_card_trans.groupby('b48')['b49'].sum()\n",
    "\n",
    "sns.set_theme(style=\"whitegrid\")\n",
    "sns.set_palette(\"pastel\")\n",
    "\n",
    "plt.figure(figsize=(8, 6))\n",
    "\n",
    "sns.barplot(x=transaction_amount.index, y=transaction_amount.values)\n",
    "\n",
    "plt.title('Debit Card Transaction Amount Statistics', fontsize=14, fontweight=\"bold\")\n",
    "plt.xlabel('Debit Card Flag', fontsize=12)\n",
    "plt.ylabel('Transaction Amount', fontsize=12)\n",
    "\n",
    "plt.xticks(ticks=[0, 1], labels=['Credit', 'Debit'], fontsize=10)\n",
    "plt.yticks(fontsize=10)\n",
    "\n",
    "for index, value in enumerate(transaction_amount.values):\n",
    "    plt.text(index, value, f\"{value:,.2f}\", ha='center', va='bottom', fontsize=10)\n",
    "\n",
    "# 显示图表\n",
    "plt.show()"
   ]
  },
  {
   "cell_type": "code",
   "execution_count": null,
   "id": "440322d4",
   "metadata": {},
   "outputs": [],
   "source": [
    "debit_data = debit_card_trans[debit_card_trans['b48'] == \"出账\"]  # 出账数据\n",
    "credit_data = debit_card_trans[debit_card_trans['b48'] == \"入账\"]  # 入账数据"
   ]
  },
  {
   "cell_type": "code",
   "execution_count": null,
   "id": "39a286da",
   "metadata": {},
   "outputs": [],
   "source": [
    "debit_total_amount = debit_data['b49'].sum()\n",
    "credit_total_amount = credit_data['b49'].sum()\n",
    "debit_avg_amount = debit_data['b49'].mean()\n",
    "credit_avg_amount = credit_data['b49'].mean()\n",
    "debit_count = debit_data.shape[0]\n",
    "credit_count = credit_data.shape[0]"
   ]
  },
  {
   "cell_type": "code",
   "execution_count": null,
   "id": "d9790325",
   "metadata": {},
   "outputs": [],
   "source": [
    "print(\"出账金额总计：\", debit_total_amount)\n",
    "print(\"入账金额总计：\", credit_total_amount)\n",
    "print(\"出账金额平均值：\", debit_avg_amount)\n",
    "print(\"入账金额平均值：\", credit_avg_amount)\n",
    "print(\"出账次数：\", debit_count)\n",
    "print(\"入账次数：\", credit_count)"
   ]
  },
  {
   "cell_type": "markdown",
   "id": "00099af3",
   "metadata": {},
   "source": [
    "### 每个时间段出账与入账的客户数量对比"
   ]
  },
  {
   "cell_type": "code",
   "execution_count": null,
   "id": "31c9686c",
   "metadata": {},
   "outputs": [],
   "source": [
    "# 提取交易时间的小时\n",
    "debit_card_trans['Hour'] = pd.to_datetime(debit_card_trans['b47']).dt.hour\n",
    "\n",
    "# 划分时间段\n",
    "time_intervals = [0, 4, 8, 12, 16, 20, 24]\n",
    "labels = ['0-4', '4-8', '8-12', '12-16', '16-20', '20-24']\n",
    "debit_card_trans['Time_Period'] = pd.cut(debit_card_trans['Hour'], bins=time_intervals, labels=labels, include_lowest=True)\n",
    "\n",
    "# 统计每个时间段出账与入账的客户数量\n",
    "customer_count = debit_card_trans.groupby(['Time_Period', 'b48'])['id'].nunique().unstack().fillna(0)\n",
    "\n",
    "# 重新命名图例\n",
    "customer_count.rename(columns={'出账': 'Debit', '入账': 'Credit'}, inplace=True)\n",
    "\n",
    "sns.set_theme(style=\"whitegrid\")\n",
    "sns.set_palette(\"pastel\")\n",
    "\n",
    "plt.figure(figsize=(10, 6))\n",
    "\n",
    "customer_count.plot(kind='bar', width=0.4)\n",
    "\n",
    "plt.title('Number of Customers with Debit and Credit Transactions by Time Period', fontsize=14, fontweight=\"bold\")\n",
    "plt.xlabel('Time Period', fontsize=12)\n",
    "plt.ylabel('Number of Customers', fontsize=12)\n",
    "\n",
    "plt.xticks(range(len(labels)), labels, fontsize=10)\n",
    "plt.yticks(fontsize=10)\n",
    "\n",
    "plt.legend(title='Debit Card Flag', loc='upper right')\n",
    "\n",
    "plt.show()\n"
   ]
  },
  {
   "cell_type": "markdown",
   "id": "605064b2",
   "metadata": {},
   "source": [
    "## installment_info"
   ]
  },
  {
   "cell_type": "markdown",
   "id": "e886f929",
   "metadata": {},
   "source": [
    "### 次月分期类型"
   ]
  },
  {
   "cell_type": "code",
   "execution_count": null,
   "id": "9fb6db52",
   "metadata": {},
   "outputs": [],
   "source": [
    "plt.figure(figsize=(8, 6))\n",
    "sns.set(style=\"darkgrid\")\n",
    "ax = sns.countplot(x='b51', data=installment_info, palette='Set2')\n",
    "plt.title('Distribution of Next Month Installment Types', fontsize=14, fontweight=\"bold\")\n",
    "\n",
    "# 设置x轴标签名称\n",
    "x_labels = ['TypeA', 'TypeB', 'TypeC']  # 你想要显示的新标签名称\n",
    "ax.set_xticklabels(x_labels)\n",
    "\n",
    "plt.xlabel('Installment Type', fontsize=12)\n",
    "plt.ylabel('Number of Customers', fontsize=12)\n",
    "\n",
    "# Add value labels to each bar\n",
    "for p in ax.patches:\n",
    "    ax.annotate(f\"{p.get_height()}\", (p.get_x() + p.get_width() / 2., p.get_height()), ha='center', va='center',\n",
    "                xytext=(0, 5), textcoords='offset points', fontsize=10)\n",
    "\n",
    "plt.show()"
   ]
  },
  {
   "cell_type": "markdown",
   "id": "88890755",
   "metadata": {},
   "source": [
    "### 历史分期次数与未结清分期数之间是否存在关联"
   ]
  },
  {
   "cell_type": "code",
   "execution_count": null,
   "id": "c83626db",
   "metadata": {},
   "outputs": [],
   "source": [
    "plt.figure(figsize=(8, 6))\n",
    "sns.set(style=\"darkgrid\")\n",
    "\n",
    "sns.regplot(x='b54', y='b55', data=installment_info)\n",
    "plt.title('Relationship between Historical Installment Count and Outstanding Installment Count', fontsize=14, fontweight=\"bold\")\n",
    "plt.xlabel('Historical Installment Count', fontsize=12)\n",
    "plt.ylabel('Outstanding Installment Count', fontsize=12)\n",
    "\n",
    "plt.show()"
   ]
  },
  {
   "cell_type": "markdown",
   "id": "1fcb2a52",
   "metadata": {},
   "source": [
    "### 分期本金与分期期数"
   ]
  },
  {
   "cell_type": "code",
   "execution_count": null,
   "id": "f4bfa62d",
   "metadata": {},
   "outputs": [],
   "source": [
    "plt.figure(figsize=(8, 6))\n",
    "sns.set(style=\"darkgrid\")\n",
    "\n",
    "sns.regplot(x='b52', y='b53', data=installment_info)\n",
    "plt.title('Relationship between Installment Principal and Installment Term', fontsize=14, fontweight=\"bold\")\n",
    "plt.xlabel('Installment Principal', fontsize=12)\n",
    "plt.ylabel('Installment Term', fontsize=12)\n",
    "\n",
    "plt.show()"
   ]
  },
  {
   "cell_type": "code",
   "execution_count": null,
   "id": "dc8a931e",
   "metadata": {},
   "outputs": [],
   "source": []
  }
 ],
 "metadata": {
  "kernelspec": {
   "display_name": "Python 3 (ipykernel)",
   "language": "python",
   "name": "python3"
  },
  "language_info": {
   "codemirror_mode": {
    "name": "ipython",
    "version": 3
   },
   "file_extension": ".py",
   "mimetype": "text/x-python",
   "name": "python",
   "nbconvert_exporter": "python",
   "pygments_lexer": "ipython3",
   "version": "3.9.12"
  },
  "toc": {
   "base_numbering": 1,
   "nav_menu": {},
   "number_sections": true,
   "sideBar": true,
   "skip_h1_title": false,
   "title_cell": "Table of Contents",
   "title_sidebar": "Contents",
   "toc_cell": false,
   "toc_position": {},
   "toc_section_display": true,
   "toc_window_display": false
  }
 },
 "nbformat": 4,
 "nbformat_minor": 5
}
